{
 "cells": [
  {
   "cell_type": "markdown",
   "metadata": {},
   "source": [
    "### Principal Component Analysis"
   ]
  },
  {
   "cell_type": "markdown",
   "metadata": {},
   "source": [
    "PCA is linear transformation that finds \"principal components\" or the direction of greatest variance, in a data set. t can be used for dimension reduction among other things. In this exercise we're first tasked with implementing PCA "
   ]
  },
  {
   "cell_type": "markdown",
   "metadata": {},
   "source": [
    "Lets apply PCA to a simple 2-dimensional data set to see how it works. Let's start off by loading and visualizing the data set."
   ]
  },
  {
   "cell_type": "code",
   "execution_count": 1,
   "metadata": {
    "collapsed": true
   },
   "outputs": [],
   "source": [
    "import os\n",
    "import numpy as np\n",
    "import pandas as pd\n",
    "from scipy.io import loadmat \n",
    "\n",
    "import matplotlib.pyplot as plt  \n",
    "import seaborn as sb  \n",
    "%matplotlib inline"
   ]
  },
  {
   "cell_type": "code",
   "execution_count": 5,
   "metadata": {},
   "outputs": [],
   "source": [
    "DATAPATH = '../../datasets/'\n",
    "data = loadmat(os.path.join(DATAPATH, 'ex7data1.mat'))\n",
    "pd_data = pd.DataFrame(data['X'], columns=['col1', 'col2'])"
   ]
  },
  {
   "cell_type": "code",
   "execution_count": 6,
   "metadata": {},
   "outputs": [
    {
     "data": {
      "text/plain": [
       "(50, 2)"
      ]
     },
     "execution_count": 6,
     "metadata": {},
     "output_type": "execute_result"
    }
   ],
   "source": [
    "pd_data.shape"
   ]
  },
  {
   "cell_type": "code",
   "execution_count": 13,
   "metadata": {},
   "outputs": [
    {
     "data": {
      "text/plain": [
       "<matplotlib.collections.PathCollection at 0x1a128a7518>"
      ]
     },
     "execution_count": 13,
     "metadata": {},
     "output_type": "execute_result"
    },
    {
     "data": {
      "image/png": "[encoded data removed]",
      "text/plain": [
       "<matplotlib.figure.Figure at 0x1a12660c88>"
      ]
     },
     "metadata": {},
     "output_type": "display_data"
    }
   ],
   "source": [
    "fig, ax = plt.subplots(figsize=(12,8))\n",
    "ax.scatter(pd_data.iloc[:,0],pd_data.iloc[:,1])"
   ]
  },
  {
   "cell_type": "markdown",
   "metadata": {},
   "source": [
    "The algorithm for PCA is fairly simple. After ensuring that the data is normalized, the output is simply the singular value decomposition of the covariance matrix of the original data. Since numpy already has built-in functions to calculate the covariance and SVD of a matrix, we'll use those rather than build from scratch."
   ]
  },
  {
   "cell_type": "code",
   "execution_count": 25,
   "metadata": {
    "collapsed": true
   },
   "outputs": [],
   "source": [
    "def pca(X):\n",
    "    #normalize data\n",
    "    X = X - X.mean()/X.std()\n",
    "    \n",
    "    # compute the covariance matrix\n",
    "    X = np.matrix(X)\n",
    "    cov = (X.T * X) / X.shape[0]\n",
    "\n",
    "    # perform SVD\n",
    "    U, S, V = np.linalg.svd(cov)\n",
    "\n",
    "    return U, S, V\n",
    "\n",
    "def project_data(X, U, k):  \n",
    "    U_reduced = U[:,:k]\n",
    "    return np.dot(X, U_reduced)\n",
    "\n",
    "def recover_data(Z, U, k):  \n",
    "    U_reduced = U[:,:k]\n",
    "    return np.dot(Z, U_reduced.T)"
   ]
  },
  {
   "cell_type": "code",
   "execution_count": 20,
   "metadata": {},
   "outputs": [],
   "source": [
    "U, S, V = pca(pd_data) "
   ]
  },
  {
   "cell_type": "code",
   "execution_count": 21,
   "metadata": {},
   "outputs": [
    {
     "data": {
      "text/plain": [
       "(matrix([[-0.81592332, -0.57816012],\n",
       "         [-0.57816012,  0.81592332]]),\n",
       " array([ 2.35576024,  0.37860889]),\n",
       " matrix([[-0.81592332, -0.57816012],\n",
       "         [-0.57816012,  0.81592332]]))"
      ]
     },
     "execution_count": 21,
     "metadata": {},
     "output_type": "execute_result"
    }
   ],
   "source": [
    "U, S, V"
   ]
  },
  {
   "cell_type": "markdown",
   "metadata": {},
   "source": [
    "Now that we have the principal components (matrix U), we can use these to project the original data into a lower-dimensional space. For this task we'll implement a function that computes the projection and selects only the top K components, effectively reducing the number of dimensions"
   ]
  },
  {
   "cell_type": "markdown",
   "metadata": {},
   "source": [
    "where U will contain the principal components and S will contain a diagonal matrix."
   ]
  },
  {
   "cell_type": "code",
   "execution_count": 26,
   "metadata": {},
   "outputs": [],
   "source": [
    "Z = project_data(pd_data, U, 1)  "
   ]
  },
  {
   "cell_type": "markdown",
   "metadata": {},
   "source": [
    "We can also attempt to recover the original data by reversing the steps we took to project it."
   ]
  },
  {
   "cell_type": "code",
   "execution_count": 27,
   "metadata": {},
   "outputs": [
    {
     "data": {
      "text/plain": [
       "matrix([[ 3.84997146,  2.72807494],\n",
       "        [ 5.77596321,  4.09282527],\n",
       "        [ 3.84925878,  2.72756994],\n",
       "        [ 3.59359026,  2.54640421],\n",
       "        [ 3.86477268,  2.73856303],\n",
       "        [ 5.65093244,  4.00422895],\n",
       "        [ 4.02769033,  2.85400585],\n",
       "        [ 7.08688173,  5.02173708],\n",
       "        [ 5.0206983 ,  3.55764747],\n",
       "        [ 5.68965796,  4.0316697 ],\n",
       "        [ 5.59135788,  3.96201464],\n",
       "        [ 5.48661724,  3.88779583],\n",
       "        [ 5.12783908,  3.63356701],\n",
       "        [ 5.69013316,  4.03200643],\n",
       "        [ 3.66540942,  2.59729499],\n",
       "        [ 6.72921405,  4.76829515],\n",
       "        [ 5.79232306,  4.1044178 ],\n",
       "        [ 4.080133  ,  2.89116652],\n",
       "        [ 6.8754621 ,  4.87192595],\n",
       "        [ 5.64211055,  3.99797779],\n",
       "        [ 6.95122041,  4.92560799],\n",
       "        [ 4.64874309,  3.29408144],\n",
       "        [ 6.6415276 ,  4.70616086],\n",
       "        [ 5.05048724,  3.57875579],\n",
       "        [ 3.52108528,  2.49502746],\n",
       "        [ 4.47777578,  3.17293466],\n",
       "        [ 6.09089958,  4.31598797],\n",
       "        [ 6.26635518,  4.44031513],\n",
       "        [ 4.14853061,  2.9396328 ],\n",
       "        [ 4.99492785,  3.53938663],\n",
       "        [ 5.00563097,  3.54697081],\n",
       "        [ 6.51896231,  4.61931157],\n",
       "        [ 3.88590241,  2.75353547],\n",
       "        [ 5.75741481,  4.07968194],\n",
       "        [ 4.40077165,  3.11836983],\n",
       "        [ 6.13037439,  4.34395967],\n",
       "        [ 3.54135349,  2.50938944],\n",
       "        [ 6.3409102 ,  4.49314453],\n",
       "        [ 2.72835861,  1.9333044 ],\n",
       "        [ 5.28871504,  3.7475631 ],\n",
       "        [ 5.78570029,  4.09972493],\n",
       "        [ 4.20957673,  2.98288985],\n",
       "        [ 3.89645521,  2.76101314],\n",
       "        [ 5.84228514,  4.13982073],\n",
       "        [ 3.52992601,  2.50129196],\n",
       "        [ 5.19514026,  3.68125637],\n",
       "        [ 2.14369651,  1.51901509],\n",
       "        [ 3.66970636,  2.60033979],\n",
       "        [ 4.75844741,  3.37181749],\n",
       "        [ 6.27771888,  4.44836741]])"
      ]
     },
     "execution_count": 27,
     "metadata": {},
     "output_type": "execute_result"
    }
   ],
   "source": [
    "X_recovered = recover_data(Z, U, 1)  \n",
    "X_recovered "
   ]
  },
  {
   "cell_type": "markdown",
   "metadata": {},
   "source": [
    "If we then attempt to visualize the recovered data, the intuition behind how the algorithm works becomes really obvious."
   ]
  },
  {
   "cell_type": "code",
   "execution_count": 35,
   "metadata": {},
   "outputs": [
    {
     "data": {
      "text/plain": [
       "<matplotlib.collections.PathCollection at 0x1a12f95a90>"
      ]
     },
     "execution_count": 35,
     "metadata": {},
     "output_type": "execute_result"
    },
    {
     "data": {
      "image/png": "[encoded data removed]",
      "text/plain": [
       "<matplotlib.figure.Figure at 0x1a12e092e8>"
      ]
     },
     "metadata": {},
     "output_type": "display_data"
    }
   ],
   "source": [
    "fig, ax = plt.subplots(figsize=(12,8))  \n",
    "ax.scatter([X_recovered[:,0]], [X_recovered[:, 1]])  "
   ]
  },
  {
   "cell_type": "markdown",
   "metadata": {},
   "source": [
    "Notice how the points all seem to be compressed down to an invisible line. That invisible line is essentially the first principal component. The second principal component, which we cut off when we reduced the data to one dimension, can be thought of as the variation orthogonal to that line. Since we lost that information, our reconstruction can only place the points relative to the first principal component."
   ]
  },
  {
   "cell_type": "markdown",
   "metadata": {},
   "source": [
    "### PCA for Images"
   ]
  },
  {
   "cell_type": "markdown",
   "metadata": {},
   "source": [
    "Applying PCA to images of faces. By using the same dimension reduction techniques we can capture the \"essence\" of the images using much less data than the original images."
   ]
  },
  {
   "cell_type": "code",
   "execution_count": 41,
   "metadata": {},
   "outputs": [
    {
     "data": {
      "text/plain": [
       "(5000, 1024)"
      ]
     },
     "execution_count": 41,
     "metadata": {},
     "output_type": "execute_result"
    }
   ],
   "source": [
    "faces = loadmat(os.path.join(DATAPATH, 'ex7faces.mat'))  \n",
    "X = faces['X']  \n",
    "X.shape  "
   ]
  },
  {
   "cell_type": "code",
   "execution_count": 53,
   "metadata": {},
   "outputs": [
    {
     "data": {
      "text/plain": [
       "<matplotlib.image.AxesImage at 0x1a12300ac8>"
      ]
     },
     "execution_count": 53,
     "metadata": {},
     "output_type": "execute_result"
    },
    {
     "data": {
      "image/png": "[encoded data removed]",
      "text/plain": [
       "<matplotlib.figure.Figure at 0x1a25053390>"
      ]
     },
     "metadata": {},
     "output_type": "display_data"
    }
   ],
   "source": [
    "face = np.reshape(X[4,:], (32, 32))  \n",
    "plt.imshow(face) "
   ]
  },
  {
   "cell_type": "markdown",
   "metadata": {},
   "source": [
    "These are only 32 x 32 grayscale images though (it's also rendering sideways, but we can ignore that for now). Our next step is to run PCA on the faces data set and take the top 100 principal components."
   ]
  },
  {
   "cell_type": "code",
   "execution_count": 48,
   "metadata": {
    "collapsed": true
   },
   "outputs": [],
   "source": [
    "U, S, V = pca(X)  \n",
    "Z = project_data(X, U, 100)"
   ]
  },
  {
   "cell_type": "markdown",
   "metadata": {},
   "source": [
    "Now we can attempt to recover the original structure and render it again."
   ]
  },
  {
   "cell_type": "code",
   "execution_count": 54,
   "metadata": {},
   "outputs": [
    {
     "data": {
      "text/plain": [
       "<matplotlib.image.AxesImage at 0x1a28b01048>"
      ]
     },
     "execution_count": 54,
     "metadata": {},
     "output_type": "execute_result"
    },
    {
     "data": {
      "image/png": "[encoded data removed]",
      "text/plain": [
       "<matplotlib.figure.Figure at 0x1a09c5f2b0>"
      ]
     },
     "metadata": {},
     "output_type": "display_data"
    }
   ],
   "source": [
    "X_recovered = recover_data(Z, U, 100)  \n",
    "face = np.reshape(X_recovered[4,:], (32, 32))  \n",
    "plt.imshow(face)  "
   ]
  },
  {
   "cell_type": "markdown",
   "metadata": {},
   "source": [
    "Notice that we lost some detail, though not as much as you might expect for a 10x reduction in the number of dimensions."
   ]
  },
  {
   "cell_type": "code",
   "execution_count": null,
   "metadata": {
    "collapsed": true
   },
   "outputs": [],
   "source": []
  }
 ],
 "metadata": {
  "kernelspec": {
   "display_name": "Python 3",
   "language": "python",
   "name": "python3"
  },
  "language_info": {
   "codemirror_mode": {
    "name": "ipython",
    "version": 3
   },
   "file_extension": ".py",
   "mimetype": "text/x-python",
   "name": "python",
   "nbconvert_exporter": "python",
   "pygments_lexer": "ipython3",
   "version": "3.6.3"
  }
 },
 "nbformat": 4,
 "nbformat_minor": 2
}
