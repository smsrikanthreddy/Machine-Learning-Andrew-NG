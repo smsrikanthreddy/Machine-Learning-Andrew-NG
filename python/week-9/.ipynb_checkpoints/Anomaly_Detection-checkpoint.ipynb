{
 "cells": [
  {
   "cell_type": "code",
   "execution_count": 29,
   "metadata": {
    "collapsed": true
   },
   "outputs": [],
   "source": [
    "import os\n",
    "import numpy as np\n",
    "import pandas as pd\n",
    "from scipy.io import loadmat\n",
    "\n",
    "import matplotlib.pyplot as plt  \n",
    "import seaborn as sb  \n",
    "%matplotlib inline"
   ]
  },
  {
   "cell_type": "markdown",
   "metadata": {},
   "source": [
    "Implement an anomaly detection algorithm to detect anomalous behavior in server computers. The features measure the throughput (mb/s) and latency (ms) of response of each server"
   ]
  },
  {
   "cell_type": "code",
   "execution_count": 30,
   "metadata": {
    "collapsed": true
   },
   "outputs": [],
   "source": [
    "DATAPATH = '../../datasets/'\n",
    "data = loadmat(os.path.join(DATAPATH, 'ex8data1.mat'))\n",
    "pd_data = pd.DataFrame(data['X'], columns=['col1', 'col2'])"
   ]
  },
  {
   "cell_type": "code",
   "execution_count": 33,
   "metadata": {},
   "outputs": [
    {
     "data": {
      "text/plain": [
       "(307, 2)"
      ]
     },
     "execution_count": 33,
     "metadata": {},
     "output_type": "execute_result"
    }
   ],
   "source": [
    "pd_data.shape"
   ]
  },
  {
   "cell_type": "code",
   "execution_count": 12,
   "metadata": {},
   "outputs": [
    {
     "data": {
      "text/plain": [
       "<matplotlib.collections.PathCollection at 0x1eb53903f28>"
      ]
     },
     "execution_count": 12,
     "metadata": {},
     "output_type": "execute_result"
    },
    {
     "data": {
      "image/png": "[encoded data removed]",
      "text/plain": [
       "<matplotlib.figure.Figure at 0x1eb5387b908>"
      ]
     },
     "metadata": {},
     "output_type": "display_data"
    }
   ],
   "source": [
    "fx, ax = plt.subplots(figsize=(12, 8))\n",
    "ax.scatter(pd_data.iloc[:,0], pd_data.iloc[:,1])"
   ]
  },
  {
   "cell_type": "markdown",
   "metadata": {},
   "source": [
    "It appears that there's a pretty tight cluster in the center with several values further out away from the cluster. In this simple example, these could be considered anomalies. To find out, we're tasked with estimating a Gaussian distribution for each feature in the data. You may recall that to define a probability distribution we need two things - mean and variance. To accomplish this we'll create a simple function that calculates the mean and variance for each feature in our data set."
   ]
  },
  {
   "cell_type": "markdown",
   "metadata": {},
   "source": [
    "### Gaussian distribution\n",
    "To perform anomaly detection, you will first need to fit a model to the data’s distribution"
   ]
  },
  {
   "cell_type": "code",
   "execution_count": 51,
   "metadata": {},
   "outputs": [],
   "source": [
    "def estimate_gaussian(X):\n",
    "    '''\n",
    "    This function takes as input the data matrix X and should output an n-dimension vector mu that holds the mean of all the n\n",
    "    features and another n-dimension vector sigma2 that holds the variances of all the features. \n",
    "    '''\n",
    "    m = len(X)\n",
    "    #calculate Gaussian Mean (X.mean(axis=0))\n",
    "    mu = np.sum(pd_data)/m \n",
    "    #calculate Gaussian variance (X.var(axis=0))\n",
    "    var = round(sum((pd_data.iloc[x_i] - mu)**2 for x_i in range(0, len(X)))/ (307-1), 2)\n",
    "    \n",
    "    return mu, var\n",
    "    "
   ]
  },
  {
   "cell_type": "code",
   "execution_count": 53,
   "metadata": {},
   "outputs": [
    {
     "data": {
      "text/plain": [
       "(col1    14.112226\n",
       " col2    14.997711\n",
       " dtype: float64, col1    1.84\n",
       " col2    1.72\n",
       " dtype: float64)"
      ]
     },
     "execution_count": 53,
     "metadata": {},
     "output_type": "execute_result"
    }
   ],
   "source": [
    "mu, var = estimate_gaussian(pd_data)\n",
    "mu, var"
   ]
  },
  {
   "cell_type": "markdown",
   "metadata": {},
   "source": [
    "Now that you have estimated the Gaussian parameters, you can investigate\n",
    "which examples have a very high probability given this distribution and which\n",
    "examples have a very low probability. The low probability examples are\n",
    "more likely to be the anomalies in our dataset. One way to determine which\n",
    "examples are anomalies is to select a threshold based on a cross validation\n",
    "set"
   ]
  },
  {
   "cell_type": "code",
   "execution_count": 57,
   "metadata": {},
   "outputs": [
    {
     "data": {
      "text/plain": [
       "((307, 2), (307, 1))"
      ]
     },
     "execution_count": 57,
     "metadata": {},
     "output_type": "execute_result"
    }
   ],
   "source": [
    "## labeled cross validation\n",
    "Xval = data['Xval']  \n",
    "yval = data['yval']\n",
    "\n",
    "Xval.shape, yval.shape  "
   ]
  },
  {
   "cell_type": "markdown",
   "metadata": {},
   "source": [
    "We also need a way to calculate the probability that a data point belongs to a normal distribution given some set of parameters. Fortunately SciPy has this built-in."
   ]
  },
  {
   "cell_type": "code",
   "execution_count": 62,
   "metadata": {},
   "outputs": [
    {
     "data": {
      "text/plain": [
       "array([ 0.18335327,  0.20152585,  0.21659231,  0.19714657,  0.20782514,\n",
       "        0.21566573,  0.16956797,  0.15106895,  0.11651436,  0.15923034,\n",
       "        0.21629511,  0.21673395,  0.20073656,  0.20089118,  0.21624895,\n",
       "        0.21671718,  0.21609274,  0.21299998,  0.20978316,  0.1174109 ,\n",
       "        0.20689756,  0.21630889,  0.19449548,  0.21615772,  0.17390476,\n",
       "        0.15394152,  0.20922022,  0.20154455,  0.2095344 ,  0.2123166 ,\n",
       "        0.16132618,  0.21621491,  0.17782763,  0.17375861,  0.12653641,\n",
       "        0.19660174,  0.14527384,  0.21679213,  0.21111057,  0.21642737,\n",
       "        0.21158025,  0.18746093,  0.21178664,  0.21665782,  0.20543329,\n",
       "        0.21436151,  0.12803773,  0.21680944,  0.21455519,  0.16879459])"
      ]
     },
     "execution_count": 62,
     "metadata": {},
     "output_type": "execute_result"
    }
   ],
   "source": [
    "from scipy import stats  \n",
    "dist = stats.norm(mu[0], var[0])  \n",
    "dist.pdf(pd_data.iloc[:,0])[0:50]  "
   ]
  },
  {
   "cell_type": "markdown",
   "metadata": {},
   "source": [
    "In case it isn't clear, we just calculated the probability that each of the first 50 instances of our data set's first dimension belong to the distribution that we defined earlier by calculating the mean and variance for that dimension. Essentially it's computing how far each instance is from the mean and how that compares to the \"typical\" distance from the mean for this data.\n",
    "\n",
    "Let's compute and save the probability density of each of the values in our data set given the Gaussian model parameters we calculated above"
   ]
  },
  {
   "cell_type": "code",
   "execution_count": 64,
   "metadata": {},
   "outputs": [
    {
     "data": {
      "text/plain": [
       "(307, 2)"
      ]
     },
     "execution_count": 64,
     "metadata": {},
     "output_type": "execute_result"
    }
   ],
   "source": [
    "p = np.zeros((pd_data.shape[0], pd_data.shape[1]))  \n",
    "p[:,0] = stats.norm(mu[0], var[0]).pdf(pd_data.iloc[:,0])  \n",
    "p[:,1] = stats.norm(mu[1], var[1]).pdf(pd_data.iloc[:,1])\n",
    "\n",
    "p.shape  "
   ]
  },
  {
   "cell_type": "markdown",
   "metadata": {},
   "source": [
    "We also need to do this for the validation set (using the same model parameters). We'll use these probabilities combined with the true label to determine the optimal probability threshold to assign data points as anomalies."
   ]
  },
  {
   "cell_type": "code",
   "execution_count": 66,
   "metadata": {},
   "outputs": [],
   "source": [
    "pval = np.zeros((Xval.shape[0], Xval.shape[1]))  \n",
    "pval[:,0] = stats.norm(mu[0], var[0]).pdf(Xval[:,0])  \n",
    "pval[:,1] = stats.norm(mu[1], var[1]).pdf(Xval[:,1])  "
   ]
  },
  {
   "cell_type": "markdown",
   "metadata": {},
   "source": [
    "### Selecting the threshold, ε"
   ]
  },
  {
   "cell_type": "markdown",
   "metadata": {},
   "source": [
    "Next, we need a function that finds the best threshold value given the probability density values and true labels. To do this we'll calculate the F1 score for varying values of epsilon. F1 is a function of the number of true positives, false positives, and false negatives."
   ]
  },
  {
   "cell_type": "code",
   "execution_count": 72,
   "metadata": {
    "collapsed": true
   },
   "outputs": [],
   "source": [
    "def selectThreshold(pval, yval):\n",
    "    '''\n",
    "    The function selectThreshold.m should return two values; the first is the selected threshold ε. If an example x has a low probability p(x) < ε,\n",
    "    then it is considered to be an anomaly. The function should also return the F1 score, which tells you how well you’re doing on finding the ground truth \n",
    "    anomalies given a certain threshold\n",
    "    '''\n",
    "    best_epsilon = 0\n",
    "    best_f1 = 0\n",
    "    f1 = 0\n",
    "\n",
    "    step = (pval.max() - pval.min()) / 1000\n",
    "\n",
    "    for epsilon in np.arange(pval.min(), pval.max(), step):\n",
    "        preds = pval < epsilon\n",
    "\n",
    "        tp = np.sum(np.logical_and(preds == 1, yval == 1)).astype(float)\n",
    "        fp = np.sum(np.logical_and(preds == 1, yval == 0)).astype(float)\n",
    "        fn = np.sum(np.logical_and(preds == 0, yval == 1)).astype(float)\n",
    "\n",
    "        precision = tp / (tp + fp)\n",
    "        recall = tp / (tp + fn)\n",
    "        f1 = (2 * precision * recall) / (precision + recall)\n",
    "\n",
    "        if f1 > best_f1:\n",
    "            best_f1 = f1\n",
    "            best_epsilon = epsilon\n",
    "\n",
    "    return best_epsilon, best_f1\n",
    "    "
   ]
  },
  {
   "cell_type": "code",
   "execution_count": 73,
   "metadata": {},
   "outputs": [
    {
     "name": "stderr",
     "output_type": "stream",
     "text": [
      "C:\\ProgramData\\Anaconda3\\lib\\site-packages\\ipykernel_launcher.py:20: RuntimeWarning: invalid value encountered in double_scalars\n"
     ]
    },
    {
     "data": {
      "text/plain": [
       "(0.0099735554607736764, 0.7142857142857143)"
      ]
     },
     "execution_count": 73,
     "metadata": {},
     "output_type": "execute_result"
    }
   ],
   "source": [
    "epsilon, f1 = selectThreshold(pval, yval)  \n",
    "epsilon, f1"
   ]
  },
  {
   "cell_type": "markdown",
   "metadata": {},
   "source": [
    "Finally, we can apply the threshold to the data set and visualize the results."
   ]
  },
  {
   "cell_type": "code",
   "execution_count": 78,
   "metadata": {},
   "outputs": [
    {
     "data": {
      "text/plain": [
       "<matplotlib.collections.PathCollection at 0x1eb546823c8>"
      ]
     },
     "execution_count": 78,
     "metadata": {},
     "output_type": "execute_result"
    },
    {
     "data": {
      "image/png": "[encoded data removed]",
      "text/plain": [
       "<matplotlib.figure.Figure at 0x1eb54345e10>"
      ]
     },
     "metadata": {},
     "output_type": "display_data"
    }
   ],
   "source": [
    "# indexes of the values considered to be outliers\n",
    "outliers = np.where(p < epsilon)\n",
    "\n",
    "fig, ax = plt.subplots(figsize=(12,8))  \n",
    "ax.scatter(pd_data.iloc[:,0], pd_data.iloc[:,1])  \n",
    "ax.scatter(pd_data.iloc[outliers[0],0], pd_data.iloc[outliers[0],1], s=50, color='r', marker='o') "
   ]
  },
  {
   "cell_type": "markdown",
   "metadata": {},
   "source": [
    "Not bad! The points in red are the ones that were flagged as outliers. Visually these seem pretty reasonable. The top right point that has some separation (but was not flagged) may be an outlier too, but it's fairly close."
   ]
  },
  {
   "cell_type": "code",
   "execution_count": 82,
   "metadata": {
    "collapsed": true
   },
   "outputs": [],
   "source": [
    "#Multi Dimensional data\n",
    "\n",
    "data_mul = loadmat(os.path.join(DATAPATH, 'ex8data2.mat'))\n",
    "pd_data_mul = pd.DataFrame(data_mul['X'], columns=['col1', 'col2', 'col3', 'col4', 'col5', 'col6', 'col7', 'col8', 'col9', 'col10', 'col11'])"
   ]
  },
  {
   "cell_type": "code",
   "execution_count": 83,
   "metadata": {},
   "outputs": [
    {
     "data": {
      "text/plain": [
       "(1000, 11)"
      ]
     },
     "execution_count": 83,
     "metadata": {},
     "output_type": "execute_result"
    }
   ],
   "source": [
    "pd_data_mul.shape"
   ]
  },
  {
   "cell_type": "code",
   "execution_count": null,
   "metadata": {
    "collapsed": true
   },
   "outputs": [],
   "source": []
  }
 ],
 "metadata": {
  "kernelspec": {
   "display_name": "Python 3",
   "language": "python",
   "name": "python3"
  },
  "language_info": {
   "codemirror_mode": {
    "name": "ipython",
    "version": 3
   },
   "file_extension": ".py",
   "mimetype": "text/x-python",
   "name": "python",
   "nbconvert_exporter": "python",
   "pygments_lexer": "ipython3",
   "version": "3.6.3"
  }
 },
 "nbformat": 4,
 "nbformat_minor": 2
}
